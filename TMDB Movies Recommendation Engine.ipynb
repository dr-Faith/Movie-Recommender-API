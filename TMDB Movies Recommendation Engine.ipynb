{
 "cells": [
  {
   "cell_type": "markdown",
   "id": "324a808c",
   "metadata": {},
   "source": [
    "#### Types of Recommendation Systems/Engines"
   ]
  },
  {
   "cell_type": "markdown",
   "id": "2f945558",
   "metadata": {},
   "source": [
    "- Content-Based Recommendation Systems\n",
    "- Collaborative-Based Recommendation Systems\n",
    "- Hybrid-Based Recommendation Systems"
   ]
  },
  {
   "cell_type": "markdown",
   "id": "7060903e",
   "metadata": {},
   "source": [
    "### Collaborative Filtering Steps"
   ]
  },
  {
   "cell_type": "markdown",
   "id": "8ceba3d7",
   "metadata": {},
   "source": [
    "- Given a user, find similar users to that given user.\n",
    "- After finding all the similar users, how to get the ratings for an item using these users\n",
    "- Evaluate the system you built\n",
    "- You can use RMSE or MAE"
   ]
  },
  {
   "cell_type": "markdown",
   "id": "112a1054",
   "metadata": {},
   "source": [
    "#### Collaborative Filtering Techniques"
   ]
  },
  {
   "cell_type": "markdown",
   "id": "e4a23c5e",
   "metadata": {},
   "source": [
    "###### Memory-Based Technique"
   ]
  },
  {
   "cell_type": "markdown",
   "id": "97ad25c7",
   "metadata": {},
   "source": [
    "- Find similar user(s) for a given user\n",
    "- Calculate the new rating of the new user using the similar user's rating"
   ]
  },
  {
   "cell_type": "code",
   "execution_count": 1,
   "id": "f21f884b",
   "metadata": {},
   "outputs": [],
   "source": [
    "# scipy.spatial.distance.euclidean\n",
    "# scipy.spatial.distance.cosine\n",
    "# sklearn.neighbors.cosine_similarity"
   ]
  },
  {
   "cell_type": "markdown",
   "id": "81fb0a57",
   "metadata": {},
   "source": [
    "We have User-based collaborative filtering and Item-based collaborative filtering"
   ]
  },
  {
   "cell_type": "markdown",
   "id": "42274d0f",
   "metadata": {},
   "source": [
    "###### Model-Based Technique"
   ]
  },
  {
   "cell_type": "markdown",
   "id": "84c272f4",
   "metadata": {},
   "source": [
    "CF models are developed using ML algorithms\n",
    "- K-Nearest neighbors\n",
    "- Clustering\n",
    "- Matrix Factorization\n",
    "- Deep learning models like autoencoders and using techniques like embeddings as low-dimensional hidden factors for items and users"
   ]
  },
  {
   "cell_type": "markdown",
   "id": "64e3908f",
   "metadata": {},
   "source": [
    "#### Dimensionality Reduction"
   ]
  },
  {
   "cell_type": "markdown",
   "id": "846ff46b",
   "metadata": {},
   "source": [
    "Using PCA or other decomposition techniques are useful because of the larges dimension of data."
   ]
  },
  {
   "cell_type": "markdown",
   "id": "f9bd8f6f",
   "metadata": {},
   "source": [
    "Latent Features are also useful when building a recommendation system.\n",
    "This involves breaking down a movie into smaller features and giving weights to those features and see what the user will rate each feature."
   ]
  },
  {
   "cell_type": "markdown",
   "id": "82c20900",
   "metadata": {},
   "source": [
    "### Recommendation System with Python"
   ]
  },
  {
   "cell_type": "markdown",
   "id": "d0b74727",
   "metadata": {},
   "source": [
    "###### Reading the data"
   ]
  },
  {
   "cell_type": "code",
   "execution_count": 2,
   "id": "7643f552",
   "metadata": {},
   "outputs": [],
   "source": [
    "import numpy as np\n",
    "import pandas as pd\n",
    "import matplotlib.pyplot as plt\n",
    "import seaborn as sns\n",
    "import sys\n",
    "import pickle\n",
    "import difflib\n",
    "\n",
    "import csv, sqlite3\n",
    "\n",
    "%matplotlib inline"
   ]
  },
  {
   "cell_type": "code",
   "execution_count": 3,
   "id": "f33e9cb9",
   "metadata": {},
   "outputs": [],
   "source": [
    "user_ratings = pd.read_csv('tmdb_data/movie_user_ratings.csv')\n",
    "reviews = pd.read_csv('tmdb_data/reviews.csv')\n",
    "movies = pd.read_csv('tmdb_data/tmdb_movies.csv')"
   ]
  },
  {
   "cell_type": "code",
   "execution_count": 4,
   "id": "f40d8669",
   "metadata": {},
   "outputs": [
    {
     "data": {
      "text/html": [
       "<div>\n",
       "<style scoped>\n",
       "    .dataframe tbody tr th:only-of-type {\n",
       "        vertical-align: middle;\n",
       "    }\n",
       "\n",
       "    .dataframe tbody tr th {\n",
       "        vertical-align: top;\n",
       "    }\n",
       "\n",
       "    .dataframe thead th {\n",
       "        text-align: right;\n",
       "    }\n",
       "</style>\n",
       "<table border=\"1\" class=\"dataframe\">\n",
       "  <thead>\n",
       "    <tr style=\"text-align: right;\">\n",
       "      <th></th>\n",
       "      <th>movie_id</th>\n",
       "      <th>user_id</th>\n",
       "      <th>rating</th>\n",
       "    </tr>\n",
       "  </thead>\n",
       "  <tbody>\n",
       "    <tr>\n",
       "      <th>0</th>\n",
       "      <td>722149</td>\n",
       "      <td>0</td>\n",
       "      <td>5.0</td>\n",
       "    </tr>\n",
       "    <tr>\n",
       "      <th>1</th>\n",
       "      <td>545611</td>\n",
       "      <td>1</td>\n",
       "      <td>9.0</td>\n",
       "    </tr>\n",
       "    <tr>\n",
       "      <th>2</th>\n",
       "      <td>545611</td>\n",
       "      <td>2</td>\n",
       "      <td>10.0</td>\n",
       "    </tr>\n",
       "    <tr>\n",
       "      <th>3</th>\n",
       "      <td>545611</td>\n",
       "      <td>0</td>\n",
       "      <td>7.0</td>\n",
       "    </tr>\n",
       "    <tr>\n",
       "      <th>4</th>\n",
       "      <td>545611</td>\n",
       "      <td>3</td>\n",
       "      <td>7.0</td>\n",
       "    </tr>\n",
       "  </tbody>\n",
       "</table>\n",
       "</div>"
      ],
      "text/plain": [
       "   movie_id  user_id  rating\n",
       "0    722149        0     5.0\n",
       "1    545611        1     9.0\n",
       "2    545611        2    10.0\n",
       "3    545611        0     7.0\n",
       "4    545611        3     7.0"
      ]
     },
     "execution_count": 4,
     "metadata": {},
     "output_type": "execute_result"
    }
   ],
   "source": [
    "user_ratings.head()"
   ]
  },
  {
   "cell_type": "code",
   "execution_count": 5,
   "id": "e94f4df4",
   "metadata": {},
   "outputs": [],
   "source": [
    "# # saving the csv files into a sql database\n",
    "\n",
    "# con = sqlite3.connect('sqlite:///tmdb_data/movie_user_ratings.db')\n",
    "# cur = con.cursor()\n",
    "# cur.execute(\"CREATE TABLE t (movie_id, user_id, rating);\")\n",
    "\n",
    "\n",
    "# with open('tmdb_data/movie_user_ratings.csv', 'r') as file:\n",
    "#     dr = csv.DictReader(file)\n",
    "#     to_db = [(i['movie_id'], i['user_id'], i['rating']) for i in dr]\n",
    "    \n",
    "# cur.executemany(\"INSERT INTO t (movie_id, user_id, rating) VALUES (?, ?);\", to_db)\n",
    "# con.commit()\n",
    "# con.close()"
   ]
  },
  {
   "cell_type": "code",
   "execution_count": 6,
   "id": "c84c9a70",
   "metadata": {},
   "outputs": [
    {
     "data": {
      "text/html": [
       "<div>\n",
       "<style scoped>\n",
       "    .dataframe tbody tr th:only-of-type {\n",
       "        vertical-align: middle;\n",
       "    }\n",
       "\n",
       "    .dataframe tbody tr th {\n",
       "        vertical-align: top;\n",
       "    }\n",
       "\n",
       "    .dataframe thead th {\n",
       "        text-align: right;\n",
       "    }\n",
       "</style>\n",
       "<table border=\"1\" class=\"dataframe\">\n",
       "  <thead>\n",
       "    <tr style=\"text-align: right;\">\n",
       "      <th></th>\n",
       "      <th>backdrop_path</th>\n",
       "      <th>id</th>\n",
       "      <th>title</th>\n",
       "      <th>original_title</th>\n",
       "      <th>overview</th>\n",
       "      <th>poster_path</th>\n",
       "      <th>media_type</th>\n",
       "      <th>genre_ids</th>\n",
       "      <th>popularity</th>\n",
       "      <th>release_date</th>\n",
       "      <th>vote_average</th>\n",
       "      <th>vote_count</th>\n",
       "    </tr>\n",
       "  </thead>\n",
       "  <tbody>\n",
       "    <tr>\n",
       "      <th>0</th>\n",
       "      <td>/eN6R6mb3ntHwA3y3MhSwpP78ljN.jpg</td>\n",
       "      <td>722149</td>\n",
       "      <td>Luther: The Fallen Sun</td>\n",
       "      <td>Luther: The Fallen Sun</td>\n",
       "      <td>A gruesome serial killer is terrorizing London...</td>\n",
       "      <td>/xCCtPOoJH1VktSJCHetuzEWkDj6.jpg</td>\n",
       "      <td>movie</td>\n",
       "      <td>['Thriller', 'Crime', 'Action', 'Drama']</td>\n",
       "      <td>96.657</td>\n",
       "      <td>2023-02-24</td>\n",
       "      <td>7.150</td>\n",
       "      <td>127</td>\n",
       "    </tr>\n",
       "    <tr>\n",
       "      <th>1</th>\n",
       "      <td>/7vCSrzwqS5PEm0i5mHlkDfjHcnX.jpg</td>\n",
       "      <td>136283</td>\n",
       "      <td>The Glory</td>\n",
       "      <td>더 글로리</td>\n",
       "      <td>After a childhood marked by pain and violence,...</td>\n",
       "      <td>/6jOpyXVzQyYL4QB12VRpHUxdwg1.jpg</td>\n",
       "      <td>tv</td>\n",
       "      <td>['Drama']</td>\n",
       "      <td>602.927</td>\n",
       "      <td>2022-12-30</td>\n",
       "      <td>8.516</td>\n",
       "      <td>221</td>\n",
       "    </tr>\n",
       "    <tr>\n",
       "      <th>2</th>\n",
       "      <td>/lY2DhbA7Hy44fAKddr06UrXWWaQ.jpg</td>\n",
       "      <td>100088</td>\n",
       "      <td>The Last of Us</td>\n",
       "      <td>The Last of Us</td>\n",
       "      <td>Twenty years after modern civilization has bee...</td>\n",
       "      <td>/uKvVjHNqB5VmOrdxqAt2F7J78ED.jpg</td>\n",
       "      <td>tv</td>\n",
       "      <td>['Drama']</td>\n",
       "      <td>4572.019</td>\n",
       "      <td>2023-01-15</td>\n",
       "      <td>8.811</td>\n",
       "      <td>2482</td>\n",
       "    </tr>\n",
       "    <tr>\n",
       "      <th>3</th>\n",
       "      <td>/tt79dbOPd9Z9ykEOpvckttgYXwH.jpg</td>\n",
       "      <td>545611</td>\n",
       "      <td>Everything Everywhere All at Once</td>\n",
       "      <td>Everything Everywhere All at Once</td>\n",
       "      <td>An aging Chinese immigrant is swept up in an i...</td>\n",
       "      <td>/rKvCys0fMIIi1X9rmJBxTPLAtoU.jpg</td>\n",
       "      <td>movie</td>\n",
       "      <td>['Action', 'Adventure', 'Science Fiction']</td>\n",
       "      <td>530.443</td>\n",
       "      <td>2022-03-24</td>\n",
       "      <td>8.000</td>\n",
       "      <td>3549</td>\n",
       "    </tr>\n",
       "    <tr>\n",
       "      <th>4</th>\n",
       "      <td>/6ZZjNFjTlO9F25467CruIibwuxl.jpg</td>\n",
       "      <td>739405</td>\n",
       "      <td>Operation Fortune: Ruse de Guerre</td>\n",
       "      <td>Operation Fortune: Ruse de Guerre</td>\n",
       "      <td>Special agent Orson Fortune and his team of op...</td>\n",
       "      <td>/vQGw9lzfh9hEoYSOWAE5XbZ6J7s.jpg</td>\n",
       "      <td>movie</td>\n",
       "      <td>['Action', 'Thriller', 'Comedy']</td>\n",
       "      <td>371.106</td>\n",
       "      <td>2023-01-04</td>\n",
       "      <td>6.700</td>\n",
       "      <td>144</td>\n",
       "    </tr>\n",
       "  </tbody>\n",
       "</table>\n",
       "</div>"
      ],
      "text/plain": [
       "                      backdrop_path      id  \\\n",
       "0  /eN6R6mb3ntHwA3y3MhSwpP78ljN.jpg  722149   \n",
       "1  /7vCSrzwqS5PEm0i5mHlkDfjHcnX.jpg  136283   \n",
       "2  /lY2DhbA7Hy44fAKddr06UrXWWaQ.jpg  100088   \n",
       "3  /tt79dbOPd9Z9ykEOpvckttgYXwH.jpg  545611   \n",
       "4  /6ZZjNFjTlO9F25467CruIibwuxl.jpg  739405   \n",
       "\n",
       "                               title                     original_title  \\\n",
       "0             Luther: The Fallen Sun             Luther: The Fallen Sun   \n",
       "1                          The Glory                              더 글로리   \n",
       "2                     The Last of Us                     The Last of Us   \n",
       "3  Everything Everywhere All at Once  Everything Everywhere All at Once   \n",
       "4  Operation Fortune: Ruse de Guerre  Operation Fortune: Ruse de Guerre   \n",
       "\n",
       "                                            overview  \\\n",
       "0  A gruesome serial killer is terrorizing London...   \n",
       "1  After a childhood marked by pain and violence,...   \n",
       "2  Twenty years after modern civilization has bee...   \n",
       "3  An aging Chinese immigrant is swept up in an i...   \n",
       "4  Special agent Orson Fortune and his team of op...   \n",
       "\n",
       "                        poster_path media_type  \\\n",
       "0  /xCCtPOoJH1VktSJCHetuzEWkDj6.jpg      movie   \n",
       "1  /6jOpyXVzQyYL4QB12VRpHUxdwg1.jpg         tv   \n",
       "2  /uKvVjHNqB5VmOrdxqAt2F7J78ED.jpg         tv   \n",
       "3  /rKvCys0fMIIi1X9rmJBxTPLAtoU.jpg      movie   \n",
       "4  /vQGw9lzfh9hEoYSOWAE5XbZ6J7s.jpg      movie   \n",
       "\n",
       "                                    genre_ids  popularity release_date  \\\n",
       "0    ['Thriller', 'Crime', 'Action', 'Drama']      96.657   2023-02-24   \n",
       "1                                   ['Drama']     602.927   2022-12-30   \n",
       "2                                   ['Drama']    4572.019   2023-01-15   \n",
       "3  ['Action', 'Adventure', 'Science Fiction']     530.443   2022-03-24   \n",
       "4            ['Action', 'Thriller', 'Comedy']     371.106   2023-01-04   \n",
       "\n",
       "   vote_average  vote_count  \n",
       "0         7.150         127  \n",
       "1         8.516         221  \n",
       "2         8.811        2482  \n",
       "3         8.000        3549  \n",
       "4         6.700         144  "
      ]
     },
     "execution_count": 6,
     "metadata": {},
     "output_type": "execute_result"
    }
   ],
   "source": [
    "movies.head()"
   ]
  },
  {
   "cell_type": "code",
   "execution_count": 7,
   "id": "4d72b753",
   "metadata": {},
   "outputs": [
    {
     "data": {
      "text/html": [
       "<div>\n",
       "<style scoped>\n",
       "    .dataframe tbody tr th:only-of-type {\n",
       "        vertical-align: middle;\n",
       "    }\n",
       "\n",
       "    .dataframe tbody tr th {\n",
       "        vertical-align: top;\n",
       "    }\n",
       "\n",
       "    .dataframe thead th {\n",
       "        text-align: right;\n",
       "    }\n",
       "</style>\n",
       "<table border=\"1\" class=\"dataframe\">\n",
       "  <thead>\n",
       "    <tr style=\"text-align: right;\">\n",
       "      <th></th>\n",
       "      <th>movie_id</th>\n",
       "      <th>user_id</th>\n",
       "      <th>rating</th>\n",
       "    </tr>\n",
       "  </thead>\n",
       "  <tbody>\n",
       "    <tr>\n",
       "      <th>0</th>\n",
       "      <td>722149</td>\n",
       "      <td>0</td>\n",
       "      <td>5.0</td>\n",
       "    </tr>\n",
       "    <tr>\n",
       "      <th>1</th>\n",
       "      <td>545611</td>\n",
       "      <td>1</td>\n",
       "      <td>9.0</td>\n",
       "    </tr>\n",
       "    <tr>\n",
       "      <th>2</th>\n",
       "      <td>545611</td>\n",
       "      <td>2</td>\n",
       "      <td>10.0</td>\n",
       "    </tr>\n",
       "    <tr>\n",
       "      <th>3</th>\n",
       "      <td>545611</td>\n",
       "      <td>0</td>\n",
       "      <td>7.0</td>\n",
       "    </tr>\n",
       "    <tr>\n",
       "      <th>4</th>\n",
       "      <td>545611</td>\n",
       "      <td>3</td>\n",
       "      <td>7.0</td>\n",
       "    </tr>\n",
       "  </tbody>\n",
       "</table>\n",
       "</div>"
      ],
      "text/plain": [
       "   movie_id  user_id  rating\n",
       "0    722149        0     5.0\n",
       "1    545611        1     9.0\n",
       "2    545611        2    10.0\n",
       "3    545611        0     7.0\n",
       "4    545611        3     7.0"
      ]
     },
     "execution_count": 7,
     "metadata": {},
     "output_type": "execute_result"
    }
   ],
   "source": [
    "user_ratings.head()"
   ]
  },
  {
   "cell_type": "code",
   "execution_count": 8,
   "id": "2ba068a7",
   "metadata": {},
   "outputs": [],
   "source": [
    "user_ratings = user_ratings.sort_values(['user_id', 'movie_id'])"
   ]
  },
  {
   "cell_type": "code",
   "execution_count": 9,
   "id": "d4278bb6",
   "metadata": {},
   "outputs": [],
   "source": [
    "user_ratings = user_ratings.reindex(columns=['user_id', 'movie_id', 'rating'])"
   ]
  },
  {
   "cell_type": "code",
   "execution_count": 10,
   "id": "636d3e40",
   "metadata": {},
   "outputs": [
    {
     "data": {
      "text/html": [
       "<div>\n",
       "<style scoped>\n",
       "    .dataframe tbody tr th:only-of-type {\n",
       "        vertical-align: middle;\n",
       "    }\n",
       "\n",
       "    .dataframe tbody tr th {\n",
       "        vertical-align: top;\n",
       "    }\n",
       "\n",
       "    .dataframe thead th {\n",
       "        text-align: right;\n",
       "    }\n",
       "</style>\n",
       "<table border=\"1\" class=\"dataframe\">\n",
       "  <thead>\n",
       "    <tr style=\"text-align: right;\">\n",
       "      <th></th>\n",
       "      <th>user_id</th>\n",
       "      <th>movie_id</th>\n",
       "      <th>rating</th>\n",
       "    </tr>\n",
       "  </thead>\n",
       "  <tbody>\n",
       "    <tr>\n",
       "      <th>3786</th>\n",
       "      <td>0</td>\n",
       "      <td>15</td>\n",
       "      <td>7.0</td>\n",
       "    </tr>\n",
       "    <tr>\n",
       "      <th>4857</th>\n",
       "      <td>0</td>\n",
       "      <td>19</td>\n",
       "      <td>8.0</td>\n",
       "    </tr>\n",
       "    <tr>\n",
       "      <th>1085</th>\n",
       "      <td>0</td>\n",
       "      <td>24</td>\n",
       "      <td>6.0</td>\n",
       "    </tr>\n",
       "    <tr>\n",
       "      <th>2991</th>\n",
       "      <td>0</td>\n",
       "      <td>74</td>\n",
       "      <td>6.0</td>\n",
       "    </tr>\n",
       "    <tr>\n",
       "      <th>611</th>\n",
       "      <td>0</td>\n",
       "      <td>78</td>\n",
       "      <td>7.0</td>\n",
       "    </tr>\n",
       "  </tbody>\n",
       "</table>\n",
       "</div>"
      ],
      "text/plain": [
       "      user_id  movie_id  rating\n",
       "3786        0        15     7.0\n",
       "4857        0        19     8.0\n",
       "1085        0        24     6.0\n",
       "2991        0        74     6.0\n",
       "611         0        78     7.0"
      ]
     },
     "execution_count": 10,
     "metadata": {},
     "output_type": "execute_result"
    }
   ],
   "source": [
    "user_ratings.head()"
   ]
  },
  {
   "cell_type": "code",
   "execution_count": 11,
   "id": "483671aa",
   "metadata": {},
   "outputs": [
    {
     "data": {
      "text/plain": [
       "45      1115\n",
       "110     1025\n",
       "0        942\n",
       "104      761\n",
       "86       673\n",
       "        ... \n",
       "643        1\n",
       "644        1\n",
       "645        1\n",
       "648        1\n",
       "1380       1\n",
       "Name: user_id, Length: 987, dtype: int64"
      ]
     },
     "execution_count": 11,
     "metadata": {},
     "output_type": "execute_result"
    }
   ],
   "source": [
    "user_ratings['user_id'].value_counts()"
   ]
  },
  {
   "cell_type": "code",
   "execution_count": 12,
   "id": "4c3e6a53",
   "metadata": {},
   "outputs": [
    {
     "data": {
      "text/plain": [
       "414906     18\n",
       "284054     17\n",
       "436270     16\n",
       "495764     15\n",
       "361743     15\n",
       "           ..\n",
       "802372      1\n",
       "961484      1\n",
       "1063453     1\n",
       "354287      1\n",
       "71006       1\n",
       "Name: movie_id, Length: 6481, dtype: int64"
      ]
     },
     "execution_count": 12,
     "metadata": {},
     "output_type": "execute_result"
    }
   ],
   "source": [
    "user_ratings['movie_id'].value_counts()"
   ]
  },
  {
   "cell_type": "markdown",
   "id": "7a9129cb",
   "metadata": {},
   "source": [
    "Why do content-based filtering?"
   ]
  },
  {
   "cell_type": "markdown",
   "id": "599d6c45",
   "metadata": {},
   "source": [
    "We can do content-based filtering to counter a cold-start problem."
   ]
  },
  {
   "cell_type": "code",
   "execution_count": 13,
   "id": "a6d44623",
   "metadata": {},
   "outputs": [],
   "source": [
    "mov_id_genres = movies[['id', 'title', 'genre_ids']]"
   ]
  },
  {
   "cell_type": "code",
   "execution_count": 14,
   "id": "4b7671db",
   "metadata": {},
   "outputs": [],
   "source": [
    "# number of moives that haven't been rated \n",
    "\n",
    "# set(movies['id'].unique()).intersection(set(user_ratings['movie_id'].unique()))"
   ]
  },
  {
   "cell_type": "code",
   "execution_count": 15,
   "id": "9fbf44b1",
   "metadata": {},
   "outputs": [
    {
     "data": {
      "text/plain": [
       "23957"
      ]
     },
     "execution_count": 15,
     "metadata": {},
     "output_type": "execute_result"
    }
   ],
   "source": [
    "movies['id'].nunique() - user_ratings['movie_id'].nunique()"
   ]
  },
  {
   "cell_type": "code",
   "execution_count": 16,
   "id": "1f9a68b7",
   "metadata": {},
   "outputs": [
    {
     "data": {
      "text/plain": [
       "30438"
      ]
     },
     "execution_count": 16,
     "metadata": {},
     "output_type": "execute_result"
    }
   ],
   "source": [
    "movies['id'].nunique()"
   ]
  },
  {
   "cell_type": "code",
   "execution_count": 17,
   "id": "25317c9f",
   "metadata": {},
   "outputs": [
    {
     "data": {
      "text/plain": [
       "6481"
      ]
     },
     "execution_count": 17,
     "metadata": {},
     "output_type": "execute_result"
    }
   ],
   "source": [
    " user_ratings['movie_id'].nunique()"
   ]
  },
  {
   "cell_type": "code",
   "execution_count": 18,
   "id": "db50fa9b",
   "metadata": {},
   "outputs": [
    {
     "data": {
      "text/plain": [
       "12100"
      ]
     },
     "execution_count": 18,
     "metadata": {},
     "output_type": "execute_result"
    }
   ],
   "source": [
    "len(user_ratings)"
   ]
  },
  {
   "cell_type": "code",
   "execution_count": 19,
   "id": "fbc144a8",
   "metadata": {},
   "outputs": [
    {
     "data": {
      "text/plain": [
       "962"
      ]
     },
     "execution_count": 19,
     "metadata": {},
     "output_type": "execute_result"
    }
   ],
   "source": [
    "(user_ratings['user_id'].value_counts() < 55).sum()"
   ]
  },
  {
   "cell_type": "markdown",
   "id": "b874a61c",
   "metadata": {},
   "source": [
    "Some users rated below 55 movies, hence I'd like to remove those users so that the user vectors formed will be robust"
   ]
  },
  {
   "cell_type": "code",
   "execution_count": 20,
   "id": "66aaa683",
   "metadata": {},
   "outputs": [],
   "source": [
    "# filtering and keeping users which rated 55 movies and above\n",
    "\n",
    "user_ratings_f = user_ratings.groupby('user_id').filter(lambda x: len(x) >= 55)"
   ]
  },
  {
   "cell_type": "code",
   "execution_count": 21,
   "id": "fce0af32",
   "metadata": {},
   "outputs": [
    {
     "data": {
      "text/plain": [
       "18.723306393324133"
      ]
     },
     "execution_count": 21,
     "metadata": {},
     "output_type": "execute_result"
    }
   ],
   "source": [
    "# percentage of movies rated\n",
    "\n",
    "user_ratings_f['movie_id'].nunique() * 100/movies['id'].nunique()"
   ]
  },
  {
   "cell_type": "code",
   "execution_count": 22,
   "id": "eaf4184d",
   "metadata": {},
   "outputs": [],
   "source": [
    "mov_id_genres_f = mov_id_genres[mov_id_genres['id'].isin(user_ratings_f['movie_id'])]"
   ]
  },
  {
   "cell_type": "code",
   "execution_count": 23,
   "id": "4908dd28",
   "metadata": {},
   "outputs": [
    {
     "data": {
      "text/html": [
       "<div>\n",
       "<style scoped>\n",
       "    .dataframe tbody tr th:only-of-type {\n",
       "        vertical-align: middle;\n",
       "    }\n",
       "\n",
       "    .dataframe tbody tr th {\n",
       "        vertical-align: top;\n",
       "    }\n",
       "\n",
       "    .dataframe thead th {\n",
       "        text-align: right;\n",
       "    }\n",
       "</style>\n",
       "<table border=\"1\" class=\"dataframe\">\n",
       "  <thead>\n",
       "    <tr style=\"text-align: right;\">\n",
       "      <th></th>\n",
       "      <th>id</th>\n",
       "      <th>title</th>\n",
       "      <th>genre_ids</th>\n",
       "    </tr>\n",
       "  </thead>\n",
       "  <tbody>\n",
       "    <tr>\n",
       "      <th>0</th>\n",
       "      <td>722149</td>\n",
       "      <td>Luther: The Fallen Sun</td>\n",
       "      <td>['Thriller', 'Crime', 'Action', 'Drama']</td>\n",
       "    </tr>\n",
       "    <tr>\n",
       "      <th>3</th>\n",
       "      <td>545611</td>\n",
       "      <td>Everything Everywhere All at Once</td>\n",
       "      <td>['Action', 'Adventure', 'Science Fiction']</td>\n",
       "    </tr>\n",
       "    <tr>\n",
       "      <th>4</th>\n",
       "      <td>739405</td>\n",
       "      <td>Operation Fortune: Ruse de Guerre</td>\n",
       "      <td>['Action', 'Thriller', 'Comedy']</td>\n",
       "    </tr>\n",
       "    <tr>\n",
       "      <th>5</th>\n",
       "      <td>934433</td>\n",
       "      <td>Scream VI</td>\n",
       "      <td>['Horror', 'Mystery', 'Thriller']</td>\n",
       "    </tr>\n",
       "    <tr>\n",
       "      <th>7</th>\n",
       "      <td>768362</td>\n",
       "      <td>Missing</td>\n",
       "      <td>['Drama', 'Mystery', 'Thriller']</td>\n",
       "    </tr>\n",
       "  </tbody>\n",
       "</table>\n",
       "</div>"
      ],
      "text/plain": [
       "       id                              title  \\\n",
       "0  722149             Luther: The Fallen Sun   \n",
       "3  545611  Everything Everywhere All at Once   \n",
       "4  739405  Operation Fortune: Ruse de Guerre   \n",
       "5  934433                          Scream VI   \n",
       "7  768362                            Missing   \n",
       "\n",
       "                                    genre_ids  \n",
       "0    ['Thriller', 'Crime', 'Action', 'Drama']  \n",
       "3  ['Action', 'Adventure', 'Science Fiction']  \n",
       "4            ['Action', 'Thriller', 'Comedy']  \n",
       "5           ['Horror', 'Mystery', 'Thriller']  \n",
       "7            ['Drama', 'Mystery', 'Thriller']  "
      ]
     },
     "execution_count": 23,
     "metadata": {},
     "output_type": "execute_result"
    }
   ],
   "source": [
    "mov_id_genres_f.head()"
   ]
  },
  {
   "cell_type": "code",
   "execution_count": 24,
   "id": "960d974f",
   "metadata": {},
   "outputs": [],
   "source": [
    "# Content Based Filtering\n",
    "\n",
    "# getting the movies which occur in the original movies dataset that is in mov_id_genres_f for\n",
    "# content-based filtering so that we can have all the neccessary features of the movie for content based filtering\n",
    "\n",
    "content_movies = movies[movies['id'].isin(mov_id_genres_f['id'])][['id', 'title', 'overview', 'media_type', 'genre_ids']]"
   ]
  },
  {
   "cell_type": "code",
   "execution_count": 25,
   "id": "3e2bb8c4",
   "metadata": {},
   "outputs": [
    {
     "data": {
      "text/plain": [
       "(5699, 5)"
      ]
     },
     "execution_count": 25,
     "metadata": {},
     "output_type": "execute_result"
    }
   ],
   "source": [
    "content_movies.shape"
   ]
  },
  {
   "cell_type": "code",
   "execution_count": 26,
   "id": "8e32b412",
   "metadata": {},
   "outputs": [
    {
     "data": {
      "text/plain": [
       "(5699, 3)"
      ]
     },
     "execution_count": 26,
     "metadata": {},
     "output_type": "execute_result"
    }
   ],
   "source": [
    "mov_id_genres_f.shape"
   ]
  },
  {
   "cell_type": "code",
   "execution_count": 27,
   "id": "13851785",
   "metadata": {},
   "outputs": [
    {
     "data": {
      "text/html": [
       "<div>\n",
       "<style scoped>\n",
       "    .dataframe tbody tr th:only-of-type {\n",
       "        vertical-align: middle;\n",
       "    }\n",
       "\n",
       "    .dataframe tbody tr th {\n",
       "        vertical-align: top;\n",
       "    }\n",
       "\n",
       "    .dataframe thead th {\n",
       "        text-align: right;\n",
       "    }\n",
       "</style>\n",
       "<table border=\"1\" class=\"dataframe\">\n",
       "  <thead>\n",
       "    <tr style=\"text-align: right;\">\n",
       "      <th></th>\n",
       "      <th>id</th>\n",
       "      <th>title</th>\n",
       "      <th>overview</th>\n",
       "      <th>media_type</th>\n",
       "      <th>genre_ids</th>\n",
       "    </tr>\n",
       "  </thead>\n",
       "  <tbody>\n",
       "    <tr>\n",
       "      <th>0</th>\n",
       "      <td>722149</td>\n",
       "      <td>Luther: The Fallen Sun</td>\n",
       "      <td>A gruesome serial killer is terrorizing London...</td>\n",
       "      <td>movie</td>\n",
       "      <td>['Thriller', 'Crime', 'Action', 'Drama']</td>\n",
       "    </tr>\n",
       "    <tr>\n",
       "      <th>3</th>\n",
       "      <td>545611</td>\n",
       "      <td>Everything Everywhere All at Once</td>\n",
       "      <td>An aging Chinese immigrant is swept up in an i...</td>\n",
       "      <td>movie</td>\n",
       "      <td>['Action', 'Adventure', 'Science Fiction']</td>\n",
       "    </tr>\n",
       "    <tr>\n",
       "      <th>4</th>\n",
       "      <td>739405</td>\n",
       "      <td>Operation Fortune: Ruse de Guerre</td>\n",
       "      <td>Special agent Orson Fortune and his team of op...</td>\n",
       "      <td>movie</td>\n",
       "      <td>['Action', 'Thriller', 'Comedy']</td>\n",
       "    </tr>\n",
       "    <tr>\n",
       "      <th>5</th>\n",
       "      <td>934433</td>\n",
       "      <td>Scream VI</td>\n",
       "      <td>Following the latest Ghostface killings, the f...</td>\n",
       "      <td>movie</td>\n",
       "      <td>['Horror', 'Mystery', 'Thriller']</td>\n",
       "    </tr>\n",
       "    <tr>\n",
       "      <th>7</th>\n",
       "      <td>768362</td>\n",
       "      <td>Missing</td>\n",
       "      <td>When her mother disappears while on vacation i...</td>\n",
       "      <td>movie</td>\n",
       "      <td>['Drama', 'Mystery', 'Thriller']</td>\n",
       "    </tr>\n",
       "  </tbody>\n",
       "</table>\n",
       "</div>"
      ],
      "text/plain": [
       "       id                              title  \\\n",
       "0  722149             Luther: The Fallen Sun   \n",
       "3  545611  Everything Everywhere All at Once   \n",
       "4  739405  Operation Fortune: Ruse de Guerre   \n",
       "5  934433                          Scream VI   \n",
       "7  768362                            Missing   \n",
       "\n",
       "                                            overview media_type  \\\n",
       "0  A gruesome serial killer is terrorizing London...      movie   \n",
       "3  An aging Chinese immigrant is swept up in an i...      movie   \n",
       "4  Special agent Orson Fortune and his team of op...      movie   \n",
       "5  Following the latest Ghostface killings, the f...      movie   \n",
       "7  When her mother disappears while on vacation i...      movie   \n",
       "\n",
       "                                    genre_ids  \n",
       "0    ['Thriller', 'Crime', 'Action', 'Drama']  \n",
       "3  ['Action', 'Adventure', 'Science Fiction']  \n",
       "4            ['Action', 'Thriller', 'Comedy']  \n",
       "5           ['Horror', 'Mystery', 'Thriller']  \n",
       "7            ['Drama', 'Mystery', 'Thriller']  "
      ]
     },
     "execution_count": 27,
     "metadata": {},
     "output_type": "execute_result"
    }
   ],
   "source": [
    "content_movies.head()"
   ]
  },
  {
   "cell_type": "code",
   "execution_count": 28,
   "id": "bea6b1bb",
   "metadata": {},
   "outputs": [
    {
     "data": {
      "text/plain": [
       "id              0\n",
       "title           0\n",
       "overview       21\n",
       "media_type    195\n",
       "genre_ids       0\n",
       "dtype: int64"
      ]
     },
     "execution_count": 28,
     "metadata": {},
     "output_type": "execute_result"
    }
   ],
   "source": [
    "content_movies.isna().sum()"
   ]
  },
  {
   "cell_type": "code",
   "execution_count": 29,
   "id": "6445365c",
   "metadata": {},
   "outputs": [],
   "source": [
    "content_movies['overview'].fillna('No Overview', inplace=True)\n",
    "content_movies['media_type'].fillna('Unknown', inplace=True)"
   ]
  },
  {
   "cell_type": "code",
   "execution_count": 30,
   "id": "77049729",
   "metadata": {},
   "outputs": [
    {
     "data": {
      "text/plain": [
       "(5699, 5)"
      ]
     },
     "execution_count": 30,
     "metadata": {},
     "output_type": "execute_result"
    }
   ],
   "source": [
    "content_movies.shape"
   ]
  },
  {
   "cell_type": "markdown",
   "id": "084e4c60",
   "metadata": {},
   "source": [
    "So we have 5699 movies currently for building the engine"
   ]
  },
  {
   "cell_type": "markdown",
   "id": "c135119e",
   "metadata": {},
   "source": [
    "### Creating a Content Latent Matrix From Movies Metadata:"
   ]
  },
  {
   "cell_type": "markdown",
   "id": "9cb1316d",
   "metadata": {},
   "source": [
    "I'll be using tf-idf vectors and truncated SVD for decomposition"
   ]
  },
  {
   "cell_type": "markdown",
   "id": "0a6494c5",
   "metadata": {},
   "source": [
    "First of all, I'll be cleaning the dataset"
   ]
  },
  {
   "cell_type": "code",
   "execution_count": 31,
   "id": "a8318c68",
   "metadata": {},
   "outputs": [],
   "source": [
    "from nltk.corpus import stopwords\n",
    "from wordcloud import STOPWORDS\n",
    "from bs4 import BeautifulSoup\n",
    "import re\n",
    "from sklearn.feature_extraction.text import ENGLISH_STOP_WORDS, TfidfVectorizer\n",
    "from nltk.tokenize import word_tokenize\n",
    "from nltk.stem import WordNetLemmatizer"
   ]
  },
  {
   "cell_type": "code",
   "execution_count": 32,
   "id": "88fa6877",
   "metadata": {},
   "outputs": [
    {
     "name": "stdout",
     "output_type": "stream",
     "text": [
      "['i', 'me', 'my', 'myself', 'we']\n",
      "['being', 'whereas', 'and', 'see', 'above']\n",
      "['being', \"it's\", 'its', 'for', 'else']\n"
     ]
    }
   ],
   "source": [
    "stopword_list = stopwords.words('english')\n",
    "print(stopword_list[:5])\n",
    "print(list(ENGLISH_STOP_WORDS)[:5])\n",
    "print(list(STOPWORDS)[:5])"
   ]
  },
  {
   "cell_type": "code",
   "execution_count": 33,
   "id": "7b6a2d42",
   "metadata": {},
   "outputs": [],
   "source": [
    "STOP_WORDS = ENGLISH_STOP_WORDS.union(stopword_list).union(STOPWORDS)"
   ]
  },
  {
   "cell_type": "code",
   "execution_count": 34,
   "id": "392014cd",
   "metadata": {},
   "outputs": [],
   "source": [
    "def clean_text(text):\n",
    "    \"\"\"\n",
    "        This function strips text of html elements, commas, fullstops brackets and other non-alphanumerics\n",
    "    \"\"\"\n",
    "    soup = BeautifulSoup(text)\n",
    "    rgx = r'[^A-Za-z0-9\\s\\.\\']'\n",
    "    return re.sub(rgx, '', soup.get_text()).replace('.', ' ')\n",
    "\n",
    "def strip_stopwords(text):\n",
    "    \"\"\"\n",
    "        Removes stop words from a sentence\n",
    "    \"\"\"\n",
    "    tokens = text.split()\n",
    "    tokens = [word for word in tokens if word not in STOP_WORDS]\n",
    "    return ' '.join(tokens)\n",
    "\n",
    "def lemmatize_sentence(text):\n",
    "    \"\"\"\n",
    "        This function lemmatizes a sentence\n",
    "    \"\"\"\n",
    "    lemmatizer = WordNetLemmatizer()\n",
    "        \n",
    "    return ' '.join([lemmatizer.lemmatize(word) for word in text.split()])\n",
    "\n",
    "def make_unique(text):\n",
    "    return ' '.join(set(text.split(' ')))"
   ]
  },
  {
   "cell_type": "code",
   "execution_count": 35,
   "id": "dca42cd7",
   "metadata": {},
   "outputs": [],
   "source": [
    "def preprocess_text(text):\n",
    "    text = text.lower()\n",
    "    cleaned_text = clean_text(text)\n",
    "    cleaned_text = strip_stopwords(cleaned_text)\n",
    "    cleaned_text = lemmatize_sentence(cleaned_text)\n",
    "    cleaned_text = make_unique(cleaned_text)\n",
    "#     print(len(cleaned_text.split(' ')))\n",
    "    return cleaned_text"
   ]
  },
  {
   "cell_type": "code",
   "execution_count": 36,
   "id": "460c4e75",
   "metadata": {},
   "outputs": [
    {
     "data": {
      "text/html": [
       "<div>\n",
       "<style scoped>\n",
       "    .dataframe tbody tr th:only-of-type {\n",
       "        vertical-align: middle;\n",
       "    }\n",
       "\n",
       "    .dataframe tbody tr th {\n",
       "        vertical-align: top;\n",
       "    }\n",
       "\n",
       "    .dataframe thead th {\n",
       "        text-align: right;\n",
       "    }\n",
       "</style>\n",
       "<table border=\"1\" class=\"dataframe\">\n",
       "  <thead>\n",
       "    <tr style=\"text-align: right;\">\n",
       "      <th></th>\n",
       "      <th>id</th>\n",
       "      <th>title</th>\n",
       "      <th>overview</th>\n",
       "      <th>media_type</th>\n",
       "      <th>genre_ids</th>\n",
       "    </tr>\n",
       "  </thead>\n",
       "  <tbody>\n",
       "    <tr>\n",
       "      <th>0</th>\n",
       "      <td>722149</td>\n",
       "      <td>Luther: The Fallen Sun</td>\n",
       "      <td>A gruesome serial killer is terrorizing London...</td>\n",
       "      <td>movie</td>\n",
       "      <td>['Thriller', 'Crime', 'Action', 'Drama']</td>\n",
       "    </tr>\n",
       "    <tr>\n",
       "      <th>3</th>\n",
       "      <td>545611</td>\n",
       "      <td>Everything Everywhere All at Once</td>\n",
       "      <td>An aging Chinese immigrant is swept up in an i...</td>\n",
       "      <td>movie</td>\n",
       "      <td>['Action', 'Adventure', 'Science Fiction']</td>\n",
       "    </tr>\n",
       "    <tr>\n",
       "      <th>4</th>\n",
       "      <td>739405</td>\n",
       "      <td>Operation Fortune: Ruse de Guerre</td>\n",
       "      <td>Special agent Orson Fortune and his team of op...</td>\n",
       "      <td>movie</td>\n",
       "      <td>['Action', 'Thriller', 'Comedy']</td>\n",
       "    </tr>\n",
       "    <tr>\n",
       "      <th>5</th>\n",
       "      <td>934433</td>\n",
       "      <td>Scream VI</td>\n",
       "      <td>Following the latest Ghostface killings, the f...</td>\n",
       "      <td>movie</td>\n",
       "      <td>['Horror', 'Mystery', 'Thriller']</td>\n",
       "    </tr>\n",
       "    <tr>\n",
       "      <th>7</th>\n",
       "      <td>768362</td>\n",
       "      <td>Missing</td>\n",
       "      <td>When her mother disappears while on vacation i...</td>\n",
       "      <td>movie</td>\n",
       "      <td>['Drama', 'Mystery', 'Thriller']</td>\n",
       "    </tr>\n",
       "  </tbody>\n",
       "</table>\n",
       "</div>"
      ],
      "text/plain": [
       "       id                              title  \\\n",
       "0  722149             Luther: The Fallen Sun   \n",
       "3  545611  Everything Everywhere All at Once   \n",
       "4  739405  Operation Fortune: Ruse de Guerre   \n",
       "5  934433                          Scream VI   \n",
       "7  768362                            Missing   \n",
       "\n",
       "                                            overview media_type  \\\n",
       "0  A gruesome serial killer is terrorizing London...      movie   \n",
       "3  An aging Chinese immigrant is swept up in an i...      movie   \n",
       "4  Special agent Orson Fortune and his team of op...      movie   \n",
       "5  Following the latest Ghostface killings, the f...      movie   \n",
       "7  When her mother disappears while on vacation i...      movie   \n",
       "\n",
       "                                    genre_ids  \n",
       "0    ['Thriller', 'Crime', 'Action', 'Drama']  \n",
       "3  ['Action', 'Adventure', 'Science Fiction']  \n",
       "4            ['Action', 'Thriller', 'Comedy']  \n",
       "5           ['Horror', 'Mystery', 'Thriller']  \n",
       "7            ['Drama', 'Mystery', 'Thriller']  "
      ]
     },
     "execution_count": 36,
     "metadata": {},
     "output_type": "execute_result"
    }
   ],
   "source": [
    "content_movies.head()"
   ]
  },
  {
   "cell_type": "code",
   "execution_count": 37,
   "id": "56b93007",
   "metadata": {},
   "outputs": [],
   "source": [
    "content_movies['metadata'] = content_movies['title'] + ' ' + \\\n",
    "                            content_movies['overview'] + ' ' + \\\n",
    "                            content_movies['media_type'] + ' ' + \\\n",
    "                            content_movies['genre_ids'].apply(lambda x: ' '.join(x.strip('[\\']').replace(\"'\", '').split('\\',')))"
   ]
  },
  {
   "cell_type": "code",
   "execution_count": 38,
   "id": "2fc4c538",
   "metadata": {},
   "outputs": [
    {
     "name": "stderr",
     "output_type": "stream",
     "text": [
      "C:\\Users\\USER\\anaconda3\\lib\\site-packages\\bs4\\__init__.py:435: MarkupResemblesLocatorWarning: The input looks more like a filename than markup. You may want to open this file and pass the filehandle into Beautiful Soup.\n",
      "  warnings.warn(\n"
     ]
    }
   ],
   "source": [
    "content_movies['metadata'] = content_movies['metadata'].apply(preprocess_text)"
   ]
  },
  {
   "cell_type": "code",
   "execution_count": 39,
   "id": "b5a5dc0d",
   "metadata": {},
   "outputs": [],
   "source": [
    "content_movies.reset_index(drop=True, inplace=True)"
   ]
  },
  {
   "cell_type": "code",
   "execution_count": 40,
   "id": "fb531e54",
   "metadata": {},
   "outputs": [
    {
     "data": {
      "text/plain": [
       "'redemption movie suffering reconnect teacher severe english drama whale chance reclusive estranged teenage attempt obesity daughter'"
      ]
     },
     "execution_count": 40,
     "metadata": {},
     "output_type": "execute_result"
    }
   ],
   "source": [
    "content_movies['metadata'][5]"
   ]
  },
  {
   "cell_type": "code",
   "execution_count": 41,
   "id": "13310611",
   "metadata": {},
   "outputs": [],
   "source": [
    "content_movies.drop(['overview', 'media_type', 'genre_ids'], axis=1, inplace=True)"
   ]
  },
  {
   "cell_type": "markdown",
   "id": "549a6051",
   "metadata": {},
   "source": [
    "### Converting the metdata to tfidf vectors"
   ]
  },
  {
   "cell_type": "code",
   "execution_count": 42,
   "id": "bca8a11b",
   "metadata": {},
   "outputs": [],
   "source": [
    "tfidf = TfidfVectorizer(stop_words='english')"
   ]
  },
  {
   "cell_type": "code",
   "execution_count": 43,
   "id": "2146aa34",
   "metadata": {},
   "outputs": [],
   "source": [
    "tfidf_matrix = tfidf.fit_transform(content_movies['metadata'])\n",
    "\n",
    "# converting o dataframe\n",
    "tfidf_df = pd.DataFrame(tfidf_matrix.toarray(), index=content_movies.index.tolist())  #  columns=tfidf.get_feature_names_out(),"
   ]
  },
  {
   "cell_type": "code",
   "execution_count": 44,
   "id": "af6d4705",
   "metadata": {},
   "outputs": [
    {
     "data": {
      "text/plain": [
       "(5699, 21768)"
      ]
     },
     "execution_count": 44,
     "metadata": {},
     "output_type": "execute_result"
    }
   ],
   "source": [
    "tfidf_df.shape"
   ]
  },
  {
   "cell_type": "code",
   "execution_count": 45,
   "id": "5d216eb6",
   "metadata": {},
   "outputs": [
    {
     "data": {
      "text/html": [
       "<div>\n",
       "<style scoped>\n",
       "    .dataframe tbody tr th:only-of-type {\n",
       "        vertical-align: middle;\n",
       "    }\n",
       "\n",
       "    .dataframe tbody tr th {\n",
       "        vertical-align: top;\n",
       "    }\n",
       "\n",
       "    .dataframe thead th {\n",
       "        text-align: right;\n",
       "    }\n",
       "</style>\n",
       "<table border=\"1\" class=\"dataframe\">\n",
       "  <thead>\n",
       "    <tr style=\"text-align: right;\">\n",
       "      <th></th>\n",
       "      <th>0</th>\n",
       "      <th>1</th>\n",
       "      <th>2</th>\n",
       "      <th>3</th>\n",
       "      <th>4</th>\n",
       "      <th>5</th>\n",
       "      <th>6</th>\n",
       "      <th>7</th>\n",
       "      <th>8</th>\n",
       "      <th>9</th>\n",
       "      <th>...</th>\n",
       "      <th>21758</th>\n",
       "      <th>21759</th>\n",
       "      <th>21760</th>\n",
       "      <th>21761</th>\n",
       "      <th>21762</th>\n",
       "      <th>21763</th>\n",
       "      <th>21764</th>\n",
       "      <th>21765</th>\n",
       "      <th>21766</th>\n",
       "      <th>21767</th>\n",
       "    </tr>\n",
       "  </thead>\n",
       "  <tbody>\n",
       "    <tr>\n",
       "      <th>0</th>\n",
       "      <td>0.0</td>\n",
       "      <td>0.0</td>\n",
       "      <td>0.0</td>\n",
       "      <td>0.0</td>\n",
       "      <td>0.0</td>\n",
       "      <td>0.0</td>\n",
       "      <td>0.0</td>\n",
       "      <td>0.0</td>\n",
       "      <td>0.0</td>\n",
       "      <td>0.0</td>\n",
       "      <td>...</td>\n",
       "      <td>0.0</td>\n",
       "      <td>0.0</td>\n",
       "      <td>0.0</td>\n",
       "      <td>0.0</td>\n",
       "      <td>0.0</td>\n",
       "      <td>0.0</td>\n",
       "      <td>0.0</td>\n",
       "      <td>0.0</td>\n",
       "      <td>0.0</td>\n",
       "      <td>0.0</td>\n",
       "    </tr>\n",
       "    <tr>\n",
       "      <th>1</th>\n",
       "      <td>0.0</td>\n",
       "      <td>0.0</td>\n",
       "      <td>0.0</td>\n",
       "      <td>0.0</td>\n",
       "      <td>0.0</td>\n",
       "      <td>0.0</td>\n",
       "      <td>0.0</td>\n",
       "      <td>0.0</td>\n",
       "      <td>0.0</td>\n",
       "      <td>0.0</td>\n",
       "      <td>...</td>\n",
       "      <td>0.0</td>\n",
       "      <td>0.0</td>\n",
       "      <td>0.0</td>\n",
       "      <td>0.0</td>\n",
       "      <td>0.0</td>\n",
       "      <td>0.0</td>\n",
       "      <td>0.0</td>\n",
       "      <td>0.0</td>\n",
       "      <td>0.0</td>\n",
       "      <td>0.0</td>\n",
       "    </tr>\n",
       "    <tr>\n",
       "      <th>2</th>\n",
       "      <td>0.0</td>\n",
       "      <td>0.0</td>\n",
       "      <td>0.0</td>\n",
       "      <td>0.0</td>\n",
       "      <td>0.0</td>\n",
       "      <td>0.0</td>\n",
       "      <td>0.0</td>\n",
       "      <td>0.0</td>\n",
       "      <td>0.0</td>\n",
       "      <td>0.0</td>\n",
       "      <td>...</td>\n",
       "      <td>0.0</td>\n",
       "      <td>0.0</td>\n",
       "      <td>0.0</td>\n",
       "      <td>0.0</td>\n",
       "      <td>0.0</td>\n",
       "      <td>0.0</td>\n",
       "      <td>0.0</td>\n",
       "      <td>0.0</td>\n",
       "      <td>0.0</td>\n",
       "      <td>0.0</td>\n",
       "    </tr>\n",
       "    <tr>\n",
       "      <th>3</th>\n",
       "      <td>0.0</td>\n",
       "      <td>0.0</td>\n",
       "      <td>0.0</td>\n",
       "      <td>0.0</td>\n",
       "      <td>0.0</td>\n",
       "      <td>0.0</td>\n",
       "      <td>0.0</td>\n",
       "      <td>0.0</td>\n",
       "      <td>0.0</td>\n",
       "      <td>0.0</td>\n",
       "      <td>...</td>\n",
       "      <td>0.0</td>\n",
       "      <td>0.0</td>\n",
       "      <td>0.0</td>\n",
       "      <td>0.0</td>\n",
       "      <td>0.0</td>\n",
       "      <td>0.0</td>\n",
       "      <td>0.0</td>\n",
       "      <td>0.0</td>\n",
       "      <td>0.0</td>\n",
       "      <td>0.0</td>\n",
       "    </tr>\n",
       "    <tr>\n",
       "      <th>4</th>\n",
       "      <td>0.0</td>\n",
       "      <td>0.0</td>\n",
       "      <td>0.0</td>\n",
       "      <td>0.0</td>\n",
       "      <td>0.0</td>\n",
       "      <td>0.0</td>\n",
       "      <td>0.0</td>\n",
       "      <td>0.0</td>\n",
       "      <td>0.0</td>\n",
       "      <td>0.0</td>\n",
       "      <td>...</td>\n",
       "      <td>0.0</td>\n",
       "      <td>0.0</td>\n",
       "      <td>0.0</td>\n",
       "      <td>0.0</td>\n",
       "      <td>0.0</td>\n",
       "      <td>0.0</td>\n",
       "      <td>0.0</td>\n",
       "      <td>0.0</td>\n",
       "      <td>0.0</td>\n",
       "      <td>0.0</td>\n",
       "    </tr>\n",
       "  </tbody>\n",
       "</table>\n",
       "<p>5 rows × 21768 columns</p>\n",
       "</div>"
      ],
      "text/plain": [
       "   0      1      2      3      4      5      6      7      8      9      ...  \\\n",
       "0    0.0    0.0    0.0    0.0    0.0    0.0    0.0    0.0    0.0    0.0  ...   \n",
       "1    0.0    0.0    0.0    0.0    0.0    0.0    0.0    0.0    0.0    0.0  ...   \n",
       "2    0.0    0.0    0.0    0.0    0.0    0.0    0.0    0.0    0.0    0.0  ...   \n",
       "3    0.0    0.0    0.0    0.0    0.0    0.0    0.0    0.0    0.0    0.0  ...   \n",
       "4    0.0    0.0    0.0    0.0    0.0    0.0    0.0    0.0    0.0    0.0  ...   \n",
       "\n",
       "   21758  21759  21760  21761  21762  21763  21764  21765  21766  21767  \n",
       "0    0.0    0.0    0.0    0.0    0.0    0.0    0.0    0.0    0.0    0.0  \n",
       "1    0.0    0.0    0.0    0.0    0.0    0.0    0.0    0.0    0.0    0.0  \n",
       "2    0.0    0.0    0.0    0.0    0.0    0.0    0.0    0.0    0.0    0.0  \n",
       "3    0.0    0.0    0.0    0.0    0.0    0.0    0.0    0.0    0.0    0.0  \n",
       "4    0.0    0.0    0.0    0.0    0.0    0.0    0.0    0.0    0.0    0.0  \n",
       "\n",
       "[5 rows x 21768 columns]"
      ]
     },
     "execution_count": 45,
     "metadata": {},
     "output_type": "execute_result"
    }
   ],
   "source": [
    "tfidf_df.head()"
   ]
  },
  {
   "cell_type": "markdown",
   "id": "77c0379a",
   "metadata": {},
   "source": [
    "We need dimensionality reduction to reduce the number of dimensions of the vectors we have "
   ]
  },
  {
   "cell_type": "code",
   "execution_count": 46,
   "id": "a721834d",
   "metadata": {},
   "outputs": [],
   "source": [
    "# SVD works with sparse datasets"
   ]
  },
  {
   "cell_type": "code",
   "execution_count": 47,
   "id": "1daf163a",
   "metadata": {},
   "outputs": [
    {
     "data": {
      "image/png": "[encoded data removed]",
      "text/plain": [
       "<Figure size 432x288 with 1 Axes>"
      ]
     },
     "metadata": {
      "needs_background": "light"
     },
     "output_type": "display_data"
    }
   ],
   "source": [
    "# Compress with SVD\n",
    "from sklearn.decomposition import TruncatedSVD\n",
    "svd = TruncatedSVD(n_components=1500)\n",
    "latent_matrix = svd.fit_transform(tfidf_df)\n",
    "\n",
    "# plot var explained to see what latent dimensions to use\n",
    "explained = svd.explained_variance_ratio_.cumsum()\n",
    "plt.plot(explained, '.-', ms=13, color='blue')\n",
    "plt.xlabel('Singular value components', fontsize=12)\n",
    "plt.ylabel('Cumulative percent of variance', fontsize=12)\n",
    "plt.show()"
   ]
  },
  {
   "cell_type": "code",
   "execution_count": 48,
   "id": "869f4c07",
   "metadata": {},
   "outputs": [],
   "source": [
    "# number of latent dimensions to keep\n",
    "n = 1500\n",
    "latent_matrix_1_df = pd.DataFrame(latent_matrix[:,:n], index=content_movies.id)"
   ]
  },
  {
   "cell_type": "code",
   "execution_count": 49,
   "id": "89992184",
   "metadata": {},
   "outputs": [
    {
     "data": {
      "text/html": [
       "<div>\n",
       "<style scoped>\n",
       "    .dataframe tbody tr th:only-of-type {\n",
       "        vertical-align: middle;\n",
       "    }\n",
       "\n",
       "    .dataframe tbody tr th {\n",
       "        vertical-align: top;\n",
       "    }\n",
       "\n",
       "    .dataframe thead th {\n",
       "        text-align: right;\n",
       "    }\n",
       "</style>\n",
       "<table border=\"1\" class=\"dataframe\">\n",
       "  <thead>\n",
       "    <tr style=\"text-align: right;\">\n",
       "      <th></th>\n",
       "      <th>0</th>\n",
       "      <th>1</th>\n",
       "      <th>2</th>\n",
       "      <th>3</th>\n",
       "      <th>4</th>\n",
       "      <th>5</th>\n",
       "      <th>6</th>\n",
       "      <th>7</th>\n",
       "      <th>8</th>\n",
       "      <th>9</th>\n",
       "      <th>...</th>\n",
       "      <th>1490</th>\n",
       "      <th>1491</th>\n",
       "      <th>1492</th>\n",
       "      <th>1493</th>\n",
       "      <th>1494</th>\n",
       "      <th>1495</th>\n",
       "      <th>1496</th>\n",
       "      <th>1497</th>\n",
       "      <th>1498</th>\n",
       "      <th>1499</th>\n",
       "    </tr>\n",
       "    <tr>\n",
       "      <th>id</th>\n",
       "      <th></th>\n",
       "      <th></th>\n",
       "      <th></th>\n",
       "      <th></th>\n",
       "      <th></th>\n",
       "      <th></th>\n",
       "      <th></th>\n",
       "      <th></th>\n",
       "      <th></th>\n",
       "      <th></th>\n",
       "      <th></th>\n",
       "      <th></th>\n",
       "      <th></th>\n",
       "      <th></th>\n",
       "      <th></th>\n",
       "      <th></th>\n",
       "      <th></th>\n",
       "      <th></th>\n",
       "      <th></th>\n",
       "      <th></th>\n",
       "      <th></th>\n",
       "    </tr>\n",
       "  </thead>\n",
       "  <tbody>\n",
       "    <tr>\n",
       "      <th>722149</th>\n",
       "      <td>0.119625</td>\n",
       "      <td>-0.046186</td>\n",
       "      <td>0.112840</td>\n",
       "      <td>0.073445</td>\n",
       "      <td>-0.037783</td>\n",
       "      <td>-0.038140</td>\n",
       "      <td>0.004095</td>\n",
       "      <td>0.028804</td>\n",
       "      <td>0.027699</td>\n",
       "      <td>-0.013122</td>\n",
       "      <td>...</td>\n",
       "      <td>-0.002925</td>\n",
       "      <td>-0.017319</td>\n",
       "      <td>-0.001625</td>\n",
       "      <td>0.010089</td>\n",
       "      <td>0.001466</td>\n",
       "      <td>0.003859</td>\n",
       "      <td>0.016191</td>\n",
       "      <td>-0.010122</td>\n",
       "      <td>0.023548</td>\n",
       "      <td>0.006970</td>\n",
       "    </tr>\n",
       "    <tr>\n",
       "      <th>545611</th>\n",
       "      <td>0.141322</td>\n",
       "      <td>0.186899</td>\n",
       "      <td>-0.017481</td>\n",
       "      <td>0.021949</td>\n",
       "      <td>0.054279</td>\n",
       "      <td>-0.037115</td>\n",
       "      <td>0.046228</td>\n",
       "      <td>-0.004939</td>\n",
       "      <td>-0.037816</td>\n",
       "      <td>-0.014469</td>\n",
       "      <td>...</td>\n",
       "      <td>0.008873</td>\n",
       "      <td>-0.000211</td>\n",
       "      <td>0.012966</td>\n",
       "      <td>-0.002045</td>\n",
       "      <td>-0.004457</td>\n",
       "      <td>-0.028342</td>\n",
       "      <td>-0.031402</td>\n",
       "      <td>0.007687</td>\n",
       "      <td>0.017196</td>\n",
       "      <td>-0.013086</td>\n",
       "    </tr>\n",
       "    <tr>\n",
       "      <th>739405</th>\n",
       "      <td>0.151464</td>\n",
       "      <td>0.049493</td>\n",
       "      <td>0.031610</td>\n",
       "      <td>0.095538</td>\n",
       "      <td>-0.040635</td>\n",
       "      <td>-0.052460</td>\n",
       "      <td>-0.066154</td>\n",
       "      <td>-0.050454</td>\n",
       "      <td>0.021750</td>\n",
       "      <td>0.067545</td>\n",
       "      <td>...</td>\n",
       "      <td>0.019045</td>\n",
       "      <td>0.001140</td>\n",
       "      <td>-0.008599</td>\n",
       "      <td>0.011136</td>\n",
       "      <td>0.005652</td>\n",
       "      <td>0.017959</td>\n",
       "      <td>0.001535</td>\n",
       "      <td>0.012527</td>\n",
       "      <td>0.005727</td>\n",
       "      <td>-0.010662</td>\n",
       "    </tr>\n",
       "    <tr>\n",
       "      <th>934433</th>\n",
       "      <td>0.102849</td>\n",
       "      <td>-0.021674</td>\n",
       "      <td>0.123379</td>\n",
       "      <td>-0.104867</td>\n",
       "      <td>-0.012255</td>\n",
       "      <td>0.023824</td>\n",
       "      <td>-0.017046</td>\n",
       "      <td>0.049455</td>\n",
       "      <td>0.034270</td>\n",
       "      <td>0.022698</td>\n",
       "      <td>...</td>\n",
       "      <td>0.016832</td>\n",
       "      <td>-0.001582</td>\n",
       "      <td>-0.003484</td>\n",
       "      <td>0.007978</td>\n",
       "      <td>0.016692</td>\n",
       "      <td>0.001586</td>\n",
       "      <td>0.011679</td>\n",
       "      <td>-0.005846</td>\n",
       "      <td>-0.014250</td>\n",
       "      <td>-0.004001</td>\n",
       "    </tr>\n",
       "    <tr>\n",
       "      <th>768362</th>\n",
       "      <td>0.124536</td>\n",
       "      <td>-0.045720</td>\n",
       "      <td>0.045191</td>\n",
       "      <td>-0.027002</td>\n",
       "      <td>0.002709</td>\n",
       "      <td>-0.018920</td>\n",
       "      <td>0.051466</td>\n",
       "      <td>0.015198</td>\n",
       "      <td>-0.015160</td>\n",
       "      <td>0.055743</td>\n",
       "      <td>...</td>\n",
       "      <td>0.008314</td>\n",
       "      <td>0.005768</td>\n",
       "      <td>-0.015321</td>\n",
       "      <td>-0.025476</td>\n",
       "      <td>-0.006942</td>\n",
       "      <td>-0.000107</td>\n",
       "      <td>0.005322</td>\n",
       "      <td>0.022061</td>\n",
       "      <td>-0.000421</td>\n",
       "      <td>0.007954</td>\n",
       "    </tr>\n",
       "  </tbody>\n",
       "</table>\n",
       "<p>5 rows × 1500 columns</p>\n",
       "</div>"
      ],
      "text/plain": [
       "            0         1         2         3         4         5         6     \\\n",
       "id                                                                             \n",
       "722149  0.119625 -0.046186  0.112840  0.073445 -0.037783 -0.038140  0.004095   \n",
       "545611  0.141322  0.186899 -0.017481  0.021949  0.054279 -0.037115  0.046228   \n",
       "739405  0.151464  0.049493  0.031610  0.095538 -0.040635 -0.052460 -0.066154   \n",
       "934433  0.102849 -0.021674  0.123379 -0.104867 -0.012255  0.023824 -0.017046   \n",
       "768362  0.124536 -0.045720  0.045191 -0.027002  0.002709 -0.018920  0.051466   \n",
       "\n",
       "            7         8         9     ...      1490      1491      1492  \\\n",
       "id                                    ...                                 \n",
       "722149  0.028804  0.027699 -0.013122  ... -0.002925 -0.017319 -0.001625   \n",
       "545611 -0.004939 -0.037816 -0.014469  ...  0.008873 -0.000211  0.012966   \n",
       "739405 -0.050454  0.021750  0.067545  ...  0.019045  0.001140 -0.008599   \n",
       "934433  0.049455  0.034270  0.022698  ...  0.016832 -0.001582 -0.003484   \n",
       "768362  0.015198 -0.015160  0.055743  ...  0.008314  0.005768 -0.015321   \n",
       "\n",
       "            1493      1494      1495      1496      1497      1498      1499  \n",
       "id                                                                            \n",
       "722149  0.010089  0.001466  0.003859  0.016191 -0.010122  0.023548  0.006970  \n",
       "545611 -0.002045 -0.004457 -0.028342 -0.031402  0.007687  0.017196 -0.013086  \n",
       "739405  0.011136  0.005652  0.017959  0.001535  0.012527  0.005727 -0.010662  \n",
       "934433  0.007978  0.016692  0.001586  0.011679 -0.005846 -0.014250 -0.004001  \n",
       "768362 -0.025476 -0.006942 -0.000107  0.005322  0.022061 -0.000421  0.007954  \n",
       "\n",
       "[5 rows x 1500 columns]"
      ]
     },
     "execution_count": 49,
     "metadata": {},
     "output_type": "execute_result"
    }
   ],
   "source": [
    "latent_matrix_1_df.head()"
   ]
  },
  {
   "cell_type": "markdown",
   "id": "f1f41bb4",
   "metadata": {},
   "source": [
    "#### Creating a Collaborative Latent Matrix from user ratings"
   ]
  },
  {
   "cell_type": "code",
   "execution_count": 50,
   "id": "6ba04010",
   "metadata": {},
   "outputs": [],
   "source": [
    "mov_map = dict(zip(content_movies['id'].values, content_movies['title'].values))"
   ]
  },
  {
   "cell_type": "code",
   "execution_count": 51,
   "id": "c5b9a227",
   "metadata": {},
   "outputs": [
    {
     "data": {
      "text/plain": [
       "5699"
      ]
     },
     "execution_count": 51,
     "metadata": {},
     "output_type": "execute_result"
    }
   ],
   "source": [
    "len(mov_map)"
   ]
  },
  {
   "cell_type": "code",
   "execution_count": 52,
   "id": "c6626623",
   "metadata": {},
   "outputs": [
    {
     "data": {
      "text/plain": [
       "5699"
      ]
     },
     "execution_count": 52,
     "metadata": {},
     "output_type": "execute_result"
    }
   ],
   "source": [
    "len(set(mov_map.keys()))"
   ]
  },
  {
   "cell_type": "code",
   "execution_count": 53,
   "id": "c5533f77",
   "metadata": {},
   "outputs": [
    {
     "data": {
      "text/html": [
       "<div>\n",
       "<style scoped>\n",
       "    .dataframe tbody tr th:only-of-type {\n",
       "        vertical-align: middle;\n",
       "    }\n",
       "\n",
       "    .dataframe tbody tr th {\n",
       "        vertical-align: top;\n",
       "    }\n",
       "\n",
       "    .dataframe thead th {\n",
       "        text-align: right;\n",
       "    }\n",
       "</style>\n",
       "<table border=\"1\" class=\"dataframe\">\n",
       "  <thead>\n",
       "    <tr style=\"text-align: right;\">\n",
       "      <th></th>\n",
       "      <th>user_id</th>\n",
       "      <th>movie_id</th>\n",
       "      <th>rating</th>\n",
       "    </tr>\n",
       "  </thead>\n",
       "  <tbody>\n",
       "    <tr>\n",
       "      <th>3786</th>\n",
       "      <td>0</td>\n",
       "      <td>15</td>\n",
       "      <td>7.0</td>\n",
       "    </tr>\n",
       "    <tr>\n",
       "      <th>4857</th>\n",
       "      <td>0</td>\n",
       "      <td>19</td>\n",
       "      <td>8.0</td>\n",
       "    </tr>\n",
       "    <tr>\n",
       "      <th>1085</th>\n",
       "      <td>0</td>\n",
       "      <td>24</td>\n",
       "      <td>6.0</td>\n",
       "    </tr>\n",
       "    <tr>\n",
       "      <th>2991</th>\n",
       "      <td>0</td>\n",
       "      <td>74</td>\n",
       "      <td>6.0</td>\n",
       "    </tr>\n",
       "    <tr>\n",
       "      <th>611</th>\n",
       "      <td>0</td>\n",
       "      <td>78</td>\n",
       "      <td>7.0</td>\n",
       "    </tr>\n",
       "  </tbody>\n",
       "</table>\n",
       "</div>"
      ],
      "text/plain": [
       "      user_id  movie_id  rating\n",
       "3786        0        15     7.0\n",
       "4857        0        19     8.0\n",
       "1085        0        24     6.0\n",
       "2991        0        74     6.0\n",
       "611         0        78     7.0"
      ]
     },
     "execution_count": 53,
     "metadata": {},
     "output_type": "execute_result"
    }
   ],
   "source": [
    "user_ratings_f.head()"
   ]
  },
  {
   "cell_type": "code",
   "execution_count": 54,
   "id": "f12ef3ea",
   "metadata": {},
   "outputs": [],
   "source": [
    "user_ratings_f['title'] = user_ratings_f['movie_id'].map(mov_map)"
   ]
  },
  {
   "cell_type": "code",
   "execution_count": 55,
   "id": "f9dbe920",
   "metadata": {},
   "outputs": [
    {
     "data": {
      "text/plain": [
       "0"
      ]
     },
     "execution_count": 55,
     "metadata": {},
     "output_type": "execute_result"
    }
   ],
   "source": [
    "content_movies['id'].nunique() - user_ratings_f['movie_id'].nunique()"
   ]
  },
  {
   "cell_type": "code",
   "execution_count": 56,
   "id": "f6d767e4",
   "metadata": {},
   "outputs": [
    {
     "data": {
      "text/plain": [
       "5699"
      ]
     },
     "execution_count": 56,
     "metadata": {},
     "output_type": "execute_result"
    }
   ],
   "source": [
    "user_ratings_f['movie_id'].nunique()"
   ]
  },
  {
   "cell_type": "code",
   "execution_count": 57,
   "id": "2d41a150",
   "metadata": {},
   "outputs": [],
   "source": [
    "user_ratings_f1 = user_ratings_f.pivot(index='movie_id', columns='user_id', values='rating').fillna(0)"
   ]
  },
  {
   "cell_type": "code",
   "execution_count": 58,
   "id": "51f4cb95",
   "metadata": {},
   "outputs": [
    {
     "data": {
      "text/plain": [
       "(5699, 25)"
      ]
     },
     "execution_count": 58,
     "metadata": {},
     "output_type": "execute_result"
    }
   ],
   "source": [
    "user_ratings_f1.shape"
   ]
  },
  {
   "cell_type": "code",
   "execution_count": 59,
   "id": "f67508d9",
   "metadata": {},
   "outputs": [],
   "source": [
    "# svd = TruncatedSVD(n_components=25)\n",
    "# latent_matrix_2 = svd.fit_transform(user_ratings_f1)\n",
    "# latent_matrix_2_df = pd.DataFrame(latent_matrix_2, index=content_movies.title)"
   ]
  },
  {
   "cell_type": "code",
   "execution_count": 60,
   "id": "f0c0c288",
   "metadata": {},
   "outputs": [
    {
     "data": {
      "text/html": [
       "<div>\n",
       "<style scoped>\n",
       "    .dataframe tbody tr th:only-of-type {\n",
       "        vertical-align: middle;\n",
       "    }\n",
       "\n",
       "    .dataframe tbody tr th {\n",
       "        vertical-align: top;\n",
       "    }\n",
       "\n",
       "    .dataframe thead th {\n",
       "        text-align: right;\n",
       "    }\n",
       "</style>\n",
       "<table border=\"1\" class=\"dataframe\">\n",
       "  <thead>\n",
       "    <tr style=\"text-align: right;\">\n",
       "      <th></th>\n",
       "      <th>backdrop_path</th>\n",
       "      <th>id</th>\n",
       "      <th>title</th>\n",
       "      <th>original_title</th>\n",
       "      <th>overview</th>\n",
       "      <th>poster_path</th>\n",
       "      <th>media_type</th>\n",
       "      <th>genre_ids</th>\n",
       "      <th>popularity</th>\n",
       "      <th>release_date</th>\n",
       "      <th>vote_average</th>\n",
       "      <th>vote_count</th>\n",
       "    </tr>\n",
       "  </thead>\n",
       "  <tbody>\n",
       "    <tr>\n",
       "      <th>84</th>\n",
       "      <td>/aDYSnJAK0BTVeE8osOy22Kz3SXY.jpg</td>\n",
       "      <td>11</td>\n",
       "      <td>Star Wars</td>\n",
       "      <td>Star Wars</td>\n",
       "      <td>Princess Leia is captured and held hostage by ...</td>\n",
       "      <td>/6FfCtAuVAW8XJjZ7eWeLibRLWTw.jpg</td>\n",
       "      <td>movie</td>\n",
       "      <td>['Adventure', 'Action', 'Science Fiction']</td>\n",
       "      <td>89.617</td>\n",
       "      <td>1977-05-25</td>\n",
       "      <td>8.207</td>\n",
       "      <td>18359</td>\n",
       "    </tr>\n",
       "  </tbody>\n",
       "</table>\n",
       "</div>"
      ],
      "text/plain": [
       "                       backdrop_path  id      title original_title  \\\n",
       "84  /aDYSnJAK0BTVeE8osOy22Kz3SXY.jpg  11  Star Wars      Star Wars   \n",
       "\n",
       "                                             overview  \\\n",
       "84  Princess Leia is captured and held hostage by ...   \n",
       "\n",
       "                         poster_path media_type  \\\n",
       "84  /6FfCtAuVAW8XJjZ7eWeLibRLWTw.jpg      movie   \n",
       "\n",
       "                                     genre_ids  popularity release_date  \\\n",
       "84  ['Adventure', 'Action', 'Science Fiction']      89.617   1977-05-25   \n",
       "\n",
       "    vote_average  vote_count  \n",
       "84         8.207       18359  "
      ]
     },
     "execution_count": 60,
     "metadata": {},
     "output_type": "execute_result"
    }
   ],
   "source": [
    "movies[movies['id']==11]"
   ]
  },
  {
   "cell_type": "code",
   "execution_count": 61,
   "id": "9e6cc542",
   "metadata": {},
   "outputs": [
    {
     "data": {
      "text/html": [
       "<div>\n",
       "<style scoped>\n",
       "    .dataframe tbody tr th:only-of-type {\n",
       "        vertical-align: middle;\n",
       "    }\n",
       "\n",
       "    .dataframe tbody tr th {\n",
       "        vertical-align: top;\n",
       "    }\n",
       "\n",
       "    .dataframe thead th {\n",
       "        text-align: right;\n",
       "    }\n",
       "</style>\n",
       "<table border=\"1\" class=\"dataframe\">\n",
       "  <thead>\n",
       "    <tr style=\"text-align: right;\">\n",
       "      <th>user_id</th>\n",
       "      <th>0</th>\n",
       "      <th>1</th>\n",
       "      <th>2</th>\n",
       "      <th>5</th>\n",
       "      <th>10</th>\n",
       "      <th>17</th>\n",
       "      <th>18</th>\n",
       "      <th>28</th>\n",
       "      <th>36</th>\n",
       "      <th>37</th>\n",
       "      <th>...</th>\n",
       "      <th>86</th>\n",
       "      <th>104</th>\n",
       "      <th>110</th>\n",
       "      <th>128</th>\n",
       "      <th>186</th>\n",
       "      <th>222</th>\n",
       "      <th>244</th>\n",
       "      <th>262</th>\n",
       "      <th>272</th>\n",
       "      <th>273</th>\n",
       "    </tr>\n",
       "    <tr>\n",
       "      <th>movie_id</th>\n",
       "      <th></th>\n",
       "      <th></th>\n",
       "      <th></th>\n",
       "      <th></th>\n",
       "      <th></th>\n",
       "      <th></th>\n",
       "      <th></th>\n",
       "      <th></th>\n",
       "      <th></th>\n",
       "      <th></th>\n",
       "      <th></th>\n",
       "      <th></th>\n",
       "      <th></th>\n",
       "      <th></th>\n",
       "      <th></th>\n",
       "      <th></th>\n",
       "      <th></th>\n",
       "      <th></th>\n",
       "      <th></th>\n",
       "      <th></th>\n",
       "      <th></th>\n",
       "    </tr>\n",
       "  </thead>\n",
       "  <tbody>\n",
       "    <tr>\n",
       "      <th>11</th>\n",
       "      <td>0.0</td>\n",
       "      <td>0.0</td>\n",
       "      <td>9.0</td>\n",
       "      <td>0.0</td>\n",
       "      <td>0.0</td>\n",
       "      <td>10.0</td>\n",
       "      <td>0.0</td>\n",
       "      <td>0.0</td>\n",
       "      <td>0.0</td>\n",
       "      <td>0.0</td>\n",
       "      <td>...</td>\n",
       "      <td>0.0</td>\n",
       "      <td>0.0</td>\n",
       "      <td>0.0</td>\n",
       "      <td>0.0</td>\n",
       "      <td>0.0</td>\n",
       "      <td>0.0</td>\n",
       "      <td>0.0</td>\n",
       "      <td>0.0</td>\n",
       "      <td>0.0</td>\n",
       "      <td>0.0</td>\n",
       "    </tr>\n",
       "    <tr>\n",
       "      <th>12</th>\n",
       "      <td>0.0</td>\n",
       "      <td>0.0</td>\n",
       "      <td>9.0</td>\n",
       "      <td>0.0</td>\n",
       "      <td>0.0</td>\n",
       "      <td>0.0</td>\n",
       "      <td>0.0</td>\n",
       "      <td>0.0</td>\n",
       "      <td>0.0</td>\n",
       "      <td>0.0</td>\n",
       "      <td>...</td>\n",
       "      <td>0.0</td>\n",
       "      <td>0.0</td>\n",
       "      <td>0.0</td>\n",
       "      <td>0.0</td>\n",
       "      <td>0.0</td>\n",
       "      <td>0.0</td>\n",
       "      <td>0.0</td>\n",
       "      <td>0.0</td>\n",
       "      <td>0.0</td>\n",
       "      <td>0.0</td>\n",
       "    </tr>\n",
       "    <tr>\n",
       "      <th>15</th>\n",
       "      <td>7.0</td>\n",
       "      <td>10.0</td>\n",
       "      <td>9.0</td>\n",
       "      <td>0.0</td>\n",
       "      <td>0.0</td>\n",
       "      <td>0.0</td>\n",
       "      <td>0.0</td>\n",
       "      <td>0.0</td>\n",
       "      <td>0.0</td>\n",
       "      <td>0.0</td>\n",
       "      <td>...</td>\n",
       "      <td>0.0</td>\n",
       "      <td>6.0</td>\n",
       "      <td>0.0</td>\n",
       "      <td>0.0</td>\n",
       "      <td>0.0</td>\n",
       "      <td>0.0</td>\n",
       "      <td>0.0</td>\n",
       "      <td>0.0</td>\n",
       "      <td>0.0</td>\n",
       "      <td>0.0</td>\n",
       "    </tr>\n",
       "    <tr>\n",
       "      <th>18</th>\n",
       "      <td>0.0</td>\n",
       "      <td>0.0</td>\n",
       "      <td>0.0</td>\n",
       "      <td>0.0</td>\n",
       "      <td>0.0</td>\n",
       "      <td>0.0</td>\n",
       "      <td>0.0</td>\n",
       "      <td>0.0</td>\n",
       "      <td>0.0</td>\n",
       "      <td>0.0</td>\n",
       "      <td>...</td>\n",
       "      <td>0.0</td>\n",
       "      <td>0.0</td>\n",
       "      <td>7.0</td>\n",
       "      <td>0.0</td>\n",
       "      <td>0.0</td>\n",
       "      <td>0.0</td>\n",
       "      <td>0.0</td>\n",
       "      <td>0.0</td>\n",
       "      <td>0.0</td>\n",
       "      <td>0.0</td>\n",
       "    </tr>\n",
       "    <tr>\n",
       "      <th>19</th>\n",
       "      <td>8.0</td>\n",
       "      <td>0.0</td>\n",
       "      <td>0.0</td>\n",
       "      <td>0.0</td>\n",
       "      <td>0.0</td>\n",
       "      <td>0.0</td>\n",
       "      <td>0.0</td>\n",
       "      <td>0.0</td>\n",
       "      <td>0.0</td>\n",
       "      <td>0.0</td>\n",
       "      <td>...</td>\n",
       "      <td>0.0</td>\n",
       "      <td>0.0</td>\n",
       "      <td>0.0</td>\n",
       "      <td>0.0</td>\n",
       "      <td>0.0</td>\n",
       "      <td>0.0</td>\n",
       "      <td>0.0</td>\n",
       "      <td>0.0</td>\n",
       "      <td>0.0</td>\n",
       "      <td>0.0</td>\n",
       "    </tr>\n",
       "  </tbody>\n",
       "</table>\n",
       "<p>5 rows × 25 columns</p>\n",
       "</div>"
      ],
      "text/plain": [
       "user_id   0     1    2    5    10    17   18   28   36   37   ...  86   104  \\\n",
       "movie_id                                                      ...             \n",
       "11        0.0   0.0  9.0  0.0  0.0  10.0  0.0  0.0  0.0  0.0  ...  0.0  0.0   \n",
       "12        0.0   0.0  9.0  0.0  0.0   0.0  0.0  0.0  0.0  0.0  ...  0.0  0.0   \n",
       "15        7.0  10.0  9.0  0.0  0.0   0.0  0.0  0.0  0.0  0.0  ...  0.0  6.0   \n",
       "18        0.0   0.0  0.0  0.0  0.0   0.0  0.0  0.0  0.0  0.0  ...  0.0  0.0   \n",
       "19        8.0   0.0  0.0  0.0  0.0   0.0  0.0  0.0  0.0  0.0  ...  0.0  0.0   \n",
       "\n",
       "user_id   110  128  186  222  244  262  272  273  \n",
       "movie_id                                          \n",
       "11        0.0  0.0  0.0  0.0  0.0  0.0  0.0  0.0  \n",
       "12        0.0  0.0  0.0  0.0  0.0  0.0  0.0  0.0  \n",
       "15        0.0  0.0  0.0  0.0  0.0  0.0  0.0  0.0  \n",
       "18        7.0  0.0  0.0  0.0  0.0  0.0  0.0  0.0  \n",
       "19        0.0  0.0  0.0  0.0  0.0  0.0  0.0  0.0  \n",
       "\n",
       "[5 rows x 25 columns]"
      ]
     },
     "execution_count": 61,
     "metadata": {},
     "output_type": "execute_result"
    }
   ],
   "source": [
    "user_ratings_f1.head()"
   ]
  },
  {
   "cell_type": "markdown",
   "id": "7f533ad7",
   "metadata": {},
   "source": [
    "### Running a content/collaborative and hybrid cosine Similarity"
   ]
  },
  {
   "cell_type": "code",
   "execution_count": 62,
   "id": "feb29a1d",
   "metadata": {},
   "outputs": [],
   "source": [
    "mov_id_map = {y: x for x, y in mov_map.items()}"
   ]
  },
  {
   "cell_type": "code",
   "execution_count": 63,
   "id": "cf178dc6",
   "metadata": {},
   "outputs": [],
   "source": [
    "latent_matrix_1_df.sort_index(inplace=True)"
   ]
  },
  {
   "cell_type": "code",
   "execution_count": 64,
   "id": "91d2b77d",
   "metadata": {},
   "outputs": [],
   "source": [
    "user_ratings_f1.sort_index(inplace=True)"
   ]
  },
  {
   "cell_type": "code",
   "execution_count": 65,
   "id": "0913a429",
   "metadata": {},
   "outputs": [],
   "source": [
    "# user_ratings_f1.head()"
   ]
  },
  {
   "cell_type": "code",
   "execution_count": 66,
   "id": "dd6a15bf",
   "metadata": {},
   "outputs": [
    {
     "name": "stdout",
     "output_type": "stream",
     "text": [
      "[0.00977648 0.02582027 0.26787535 ... 0.00268369 0.05145021 0.007842  ]\n"
     ]
    }
   ],
   "source": [
    "from sklearn.metrics.pairwise import cosine_similarity\n",
    " \n",
    "selected_movie = 'The Sea Beast'\n",
    "selected_movie_id = mov_id_map[selected_movie]\n",
    "# print(selected_movie_id)\n",
    "\n",
    "a_1 = np.array(latent_matrix_1_df.loc[selected_movie_id]).reshape(1, -1)\n",
    "a_2 = np.array(user_ratings_f1.loc[selected_movie_id]).reshape(1, -1)\n",
    "\n",
    "# print(a_1)\n",
    "# print(a_2)\n",
    "\n",
    "score_1 = cosine_similarity(latent_matrix_1_df, a_1).reshape(-1)\n",
    "score_2 = cosine_similarity(user_ratings_f1, a_2).reshape(-1)\n",
    "\n",
    "# print(score_1)\n",
    "# print(score_2)\n",
    "\n",
    "# an avarge measure of both content and collaborative\n",
    "hybrid = ((score_1 + score_2)/2.)\n",
    "\n",
    "print(hybrid)"
   ]
  },
  {
   "cell_type": "code",
   "execution_count": 67,
   "id": "a7592930",
   "metadata": {},
   "outputs": [],
   "source": [
    "dictDf = {'content': score_1, 'collaborative': score_2, 'hybrid': hybrid}\n",
    "similar = pd.DataFrame(dictDf, index=latent_matrix_1_df.index)\n",
    "\n",
    "similar.sort_values('hybrid', ascending=False, inplace=True)\n",
    "top_similar = [mov_map[idx] for idx in similar[1:].head(11).index]"
   ]
  },
  {
   "cell_type": "code",
   "execution_count": 68,
   "id": "febd4a23",
   "metadata": {},
   "outputs": [
    {
     "data": {
      "text/plain": [
       "['Cryptozoo',\n",
       " 'Resurrection',\n",
       " 'Monster',\n",
       " 'Emergency',\n",
       " 'Gretel & Hansel',\n",
       " \"The King's Daughter\",\n",
       " 'Wendell & Wild',\n",
       " \"God's Country\",\n",
       " 'We Have a Ghost',\n",
       " 'The Lion King',\n",
       " 'Clifford the Big Red Dog']"
      ]
     },
     "execution_count": 68,
     "metadata": {},
     "output_type": "execute_result"
    }
   ],
   "source": [
    "top_similar"
   ]
  },
  {
   "cell_type": "code",
   "execution_count": 77,
   "id": "a3f82a4b",
   "metadata": {},
   "outputs": [],
   "source": [
    "with open('mov_map.pkl', 'wb') as f:\n",
    "    pickle.dump(mov_map, f, protocol=pickle.HIGHEST_PROTOCOL)"
   ]
  },
  {
   "cell_type": "code",
   "execution_count": 78,
   "id": "ff2602fb",
   "metadata": {},
   "outputs": [],
   "source": [
    "with open('mov_id_map.pkl', 'wb') as f:\n",
    "    pickle.dump(mov_id_map, f, protocol=pickle.HIGHEST_PROTOCOL)"
   ]
  },
  {
   "cell_type": "code",
   "execution_count": 107,
   "id": "cf054da4",
   "metadata": {},
   "outputs": [],
   "source": [
    "with open('user_ratings_f1.pkl', 'wb') as f:\n",
    "    pickle.dump(user_ratings_f1, f, protocol=pickle.HIGHEST_PROTOCOL)"
   ]
  },
  {
   "cell_type": "code",
   "execution_count": 106,
   "id": "5b211738",
   "metadata": {},
   "outputs": [],
   "source": [
    "with open('latent_matrix_1_df.pkl', 'wb') as f:\n",
    "    pickle.dump(latent_matrix_1_df, f, protocol=pickle.HIGHEST_PROTOCOL)"
   ]
  },
  {
   "cell_type": "code",
   "execution_count": 7,
   "id": "2528ce51",
   "metadata": {},
   "outputs": [
    {
     "name": "stdout",
     "output_type": "stream",
     "text": [
      "Which movie would you like to find similar movies for in our database?: the sea beast\n",
      "***********Recommended Movies for THE SEA BEAST**********\n",
      "1. Cryptozoo\n",
      "2. Resurrection\n",
      "3. Monster\n",
      "4. Emergency\n",
      "5. Gretel & Hansel\n",
      "6. The King's Daughter\n",
      "7. Wendell & Wild\n",
      "8. God's Country\n",
      "9. We Have a Ghost\n",
      "10. The Lion King\n",
      "11. Clifford the Big Red Dog\n"
     ]
    }
   ],
   "source": [
    "import numpy as np\n",
    "import pandas as pd\n",
    "import pickle\n",
    "from sklearn.metrics.pairwise import cosine_similarity\n",
    "import difflib\n",
    "\n",
    "\n",
    "class MovieRecommender():\n",
    "    \n",
    "    def __init__(self, path_to_content_latent_matrix, path_to_user_latent_matrix, path_to_mov_map, path_to_mov_id_map):\n",
    "        self.content_latent_matrix = MovieRecommender.read_bfile(path_to_content_latent_matrix)\n",
    "        self.user_latent_matrix = MovieRecommender.read_bfile(path_to_user_latent_matrix)\n",
    "        self.mov_map = MovieRecommender.read_bfile(path_to_mov_map)\n",
    "        self.mov_id_map = MovieRecommender.read_bfile(path_to_mov_id_map)\n",
    "        \n",
    "    @staticmethod \n",
    "    def read_bfile(file_path):\n",
    "        with open(file_path, 'rb') as f:\n",
    "            return pickle.load(f)\n",
    "        \n",
    "    def recommend_movies(self, movie):\n",
    "        selected_movie = movie ##############\n",
    "        close_matches = difflib.get_close_matches(selected_movie, list(self.mov_id_map.keys()))\n",
    "        select_movie = close_matches[0]\n",
    "        selected_movie_id = self.mov_id_map[select_movie]\n",
    "        a_1 = np.array(self.content_latent_matrix.loc[selected_movie_id]).reshape(1, -1)\n",
    "        a_2 = np.array(self.user_latent_matrix.loc[selected_movie_id]).reshape(1, -1)\n",
    "        score_1 = cosine_similarity(self.content_latent_matrix, a_1).reshape(-1)\n",
    "        score_2 = cosine_similarity(self.user_latent_matrix, a_2).reshape(-1)\n",
    "        hybrid = ((score_1 + score_2)/2.)\n",
    "        dictDf = {'content': score_1, 'collaborative': score_2, 'hybrid': hybrid}\n",
    "        similar = pd.DataFrame(dictDf, index=self.content_latent_matrix.index)\n",
    "\n",
    "        similar.sort_values('hybrid', ascending=False, inplace=True)\n",
    "        top_similar = [self.mov_map[idx] for idx in similar[1:].head(11).index]\n",
    "\n",
    "        print(f\"***********Recommended Movies for {select_movie.upper()}**********\")\n",
    "        for idx, movie in enumerate(top_similar):\n",
    "            print(f\"{idx+1}. {movie}\")\n",
    "    \n",
    "if __name__ == '__main__':\n",
    "    movie_recommender = MovieRecommender('latent_matrix_1_df.pkl', 'user_ratings_f1.pkl', 'mov_map.pkl', 'mov_id_map.pkl')\n",
    "    movie = input(\"Which movie would you like to find similar movies for in our database?: \")\n",
    "    movie_recommender.recommend_movies(movie)"
   ]
  },
  {
   "cell_type": "code",
   "execution_count": null,
   "id": "2b8d0a67",
   "metadata": {},
   "outputs": [],
   "source": []
  }
 ],
 "metadata": {
  "kernelspec": {
   "display_name": "Python 3 (ipykernel)",
   "language": "python",
   "name": "python3"
  },
  "language_info": {
   "codemirror_mode": {
    "name": "ipython",
    "version": 3
   },
   "file_extension": ".py",
   "mimetype": "text/x-python",
   "name": "python",
   "nbconvert_exporter": "python",
   "pygments_lexer": "ipython3",
   "version": "3.9.13"
  }
 },
 "nbformat": 4,
 "nbformat_minor": 5
}
